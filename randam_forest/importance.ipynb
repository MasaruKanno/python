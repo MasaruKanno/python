{
 "cells": [
  {
   "cell_type": "code",
   "execution_count": 2,
   "metadata": {},
   "outputs": [
    {
     "data": {
      "image/png": "[encoded data removed]",
      "text/plain": [
       "<Figure size 432x288 with 1 Axes>"
      ]
     },
     "metadata": {
      "needs_background": "light"
     },
     "output_type": "display_data"
    }
   ],
   "source": [
    "import numpy as np\n",
    "import pandas as pd\n",
    "import matplotlib.pyplot as plt\n",
    "from sklearn.ensemble import RandomForestClassifier\n",
    "from sklearn.model_selection import train_test_split\n",
    "from sklearn.datasets import load_iris\n",
    "\n",
    "# データセット読み込み\n",
    "iris = load_iris()\n",
    "df = pd.DataFrame(iris.data, columns=iris.feature_names)\n",
    "x = iris.data\n",
    "y = iris.target\n",
    "\n",
    "# 学習データとテストデータに分割\n",
    "x_train, x_test, y_train, y_test = train_test_split(x, y)\n",
    "\n",
    "# ランダムフォレストのモデル構築\n",
    "# n_jobs : 全てのコアを使用(-1)\n",
    "# n_estimators : 使用する決定木数(デフォルト10)\n",
    "model = RandomForestClassifier(n_estimators=20,n_jobs=-1)\n",
    "model.fit(x_train, y_train)\n",
    "\n",
    "#特徴量の重要度\n",
    "feature = model.feature_importances_\n",
    "#特徴量の名前\n",
    "label = df.columns[0:]\n",
    "#特徴量の重要度順(降順)\n",
    "indices = np.argsort(feature)[::1]\n",
    "\n",
    "# プロット\n",
    "x = range(len(feature))\n",
    "y = feature[indices]\n",
    "y_label = label[indices]\n",
    "plt.barh(x, y, align = 'center')\n",
    "plt.yticks(x, y_label)\n",
    "plt.xlabel(\"importance_num\")\n",
    "plt.ylabel(\"label\")\n",
    "plt.show()"
   ]
  },
  {
   "cell_type": "code",
   "execution_count": null,
   "metadata": {},
   "outputs": [],
   "source": []
  }
 ],
 "metadata": {
  "kernelspec": {
   "display_name": "Python 3",
   "language": "python",
   "name": "python3"
  },
  "language_info": {
   "codemirror_mode": {
    "name": "ipython",
    "version": 3
   },
   "file_extension": ".py",
   "mimetype": "text/x-python",
   "name": "python",
   "nbconvert_exporter": "python",
   "pygments_lexer": "ipython3",
   "version": "3.7.3"
  }
 },
 "nbformat": 4,
 "nbformat_minor": 2
}
