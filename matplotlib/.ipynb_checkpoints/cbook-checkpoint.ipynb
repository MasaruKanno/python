{
 "cells": [
  {
   "cell_type": "code",
   "execution_count": 1,
   "metadata": {},
   "outputs": [
    {
     "name": "stdout",
     "output_type": "stream",
     "text": [
      "(('John', ['Hunter']), (1, 23), [[([42, (5, 23)],)]])\n",
      "['John', 'Hunter', 1, 23, 42, 5, 23]\n"
     ]
    }
   ],
   "source": [
    "from matplotlib.cbook import flatten\n",
    "l = (('John', ['Hunter']), (1, 23), [[([42, (5, 23)], )]])\n",
    "print(l) # 平坦化前\n",
    "print(list(flatten(l))) # 平坦化後"
   ]
  },
  {
   "cell_type": "code",
   "execution_count": null,
   "metadata": {},
   "outputs": [],
   "source": []
  }
 ],
 "metadata": {
  "kernelspec": {
   "display_name": "Python 3",
   "language": "python",
   "name": "python3"
  },
  "language_info": {
   "codemirror_mode": {
    "name": "ipython",
    "version": 3
   },
   "file_extension": ".py",
   "mimetype": "text/x-python",
   "name": "python",
   "nbconvert_exporter": "python",
   "pygments_lexer": "ipython3",
   "version": "3.7.3"
  }
 },
 "nbformat": 4,
 "nbformat_minor": 2
}
